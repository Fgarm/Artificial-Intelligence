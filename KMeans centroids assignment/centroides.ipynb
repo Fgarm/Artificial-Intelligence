{
 "cells": [
  {
   "cell_type": "code",
   "execution_count": 62,
   "metadata": {},
   "outputs": [],
   "source": [
    "from sklearn.cluster import KMeans\n",
    "from sklearn.datasets import load_digits\n",
    "from sklearn.neighbors import KNeighborsClassifier\n",
    "from sklearn.preprocessing import StandardScaler\n",
    "from sklearn.model_selection import train_test_split\n",
    "from sklearn.metrics import classification_report\n",
    "from sklearn import svm\n",
    "import numpy as np\n",
    "import pandas as pd"
   ]
  },
  {
   "cell_type": "code",
   "execution_count": 63,
   "metadata": {},
   "outputs": [],
   "source": [
    "# lendo dados do prof\n",
    "treino = pd.read_csv(\"../treinamento.txt\", sep=' ', header=None)\n",
    "classes_treino = treino[treino.columns[-1]].to_numpy()\n",
    "# print(classes_treino)\n",
    "nlinhas = len(treino)\n",
    "treino = treino.iloc[:,:-1].to_numpy()\n",
    "\n",
    "teste = pd.read_csv(\"../teste.txt\", sep=' ', header=None)\n",
    "classes_teste = teste[teste.columns[-1]].to_numpy()\n",
    "nlinhas_teste = len(teste)\n",
    "teste = teste.iloc[:,:-1].to_numpy()\n",
    "\n",
    "# lendo dados do sklearn\n",
    "dados, classes = load_digits(return_X_y=True)\n"
   ]
  },
  {
   "cell_type": "code",
   "execution_count": 64,
   "metadata": {},
   "outputs": [],
   "source": [
    "dados_prof = False\n",
    "dados_prof = True\n",
    "classes_possiveis = []\n",
    "x_train, x_test, y_train, y_test = [],[],[],[]\n",
    "if dados_prof:\n",
    "    classes_possiveis = list(set(classes_teste))\n",
    "    \n",
    "    x, y = treino, classes_treino\n",
    "    for c in classes_possiveis:\n",
    "        idxs: np.ndarray = y == c\n",
    "        x_train.append(x[idxs,:])\n",
    "        y_train.extend(y[idxs])\n",
    "    x_train = np.concatenate(x_train)\n",
    "    y_train = np.array(y_train)\n",
    "\n",
    "    x, y = teste, classes_teste\n",
    "\n",
    "    for c in classes_possiveis:\n",
    "        idxs: np.ndarray = y == c\n",
    "        x_test.append(x[idxs,:])\n",
    "        y_test.extend(y[idxs])\n",
    "    x_test = np.concatenate(x_test)\n",
    "    y_test = np.array(y_test)\n",
    "else:\n",
    "    classes_possiveis = list(set(classes))\n",
    "    x, y = dados, classes\n",
    "    xc = []\n",
    "    yc = []\n",
    "    for c in classes_possiveis:\n",
    "        idxs: np.ndarray = y == c\n",
    "        xc.append(x[idxs,:])\n",
    "        yc.extend(y[idxs])\n",
    "    xc = np.concatenate(xc)\n",
    "    yc = np.array(yc)\n",
    "    x_train, x_test, y_train, y_test = train_test_split(xc, yc, test_size=0.2)"
   ]
  },
  {
   "cell_type": "code",
   "execution_count": 65,
   "metadata": {},
   "outputs": [],
   "source": [
    "ss = StandardScaler()\n",
    "x_train = ss.fit_transform(x_train)\n",
    "x_test = ss.transform(x_test)"
   ]
  },
  {
   "cell_type": "code",
   "execution_count": 69,
   "metadata": {},
   "outputs": [],
   "source": [
    "km = KMeans(n_clusters=10, n_init=10)\n",
    "centroides_classes = {}\n",
    "for digit_class in classes_possiveis:\n",
    "    indexes = y_train == digit_class\n",
    "    instancias = x_train[indexes]\n",
    "    km.fit(instancias)\n",
    "    centroides_classes[digit_class] = km.cluster_centers_\n",
    "centroides_para_treino = []\n",
    "centroides_labels = []\n",
    "for i in centroides_classes:\n",
    "    for centroide in centroides_classes[i]:\n",
    "        centroides_para_treino.append(centroide)\n",
    "        centroides_labels.append(i)\n",
    "    \n"
   ]
  },
  {
   "cell_type": "code",
   "execution_count": 81,
   "metadata": {},
   "outputs": [
    {
     "name": "stdout",
     "output_type": "stream",
     "text": [
      "0.885\n",
      "              precision    recall  f1-score   support\n",
      "\n",
      "           0       0.77      0.97      0.86       100\n",
      "           1       0.82      0.88      0.85       100\n",
      "           2       0.90      0.87      0.88       100\n",
      "           3       0.91      0.91      0.91       100\n",
      "           4       0.91      0.96      0.93       100\n",
      "           5       0.95      0.91      0.93       100\n",
      "           6       0.94      0.98      0.96       100\n",
      "           7       0.93      0.95      0.94       100\n",
      "           8       0.85      0.58      0.69       100\n",
      "           9       0.89      0.84      0.87       100\n",
      "\n",
      "    accuracy                           0.89      1000\n",
      "   macro avg       0.89      0.89      0.88      1000\n",
      "weighted avg       0.89      0.89      0.88      1000\n",
      "\n",
      "-------------------------------------------\n",
      "0.945\n",
      "              precision    recall  f1-score   support\n",
      "\n",
      "           0       0.92      0.97      0.94       100\n",
      "           1       0.89      0.93      0.91       100\n",
      "           2       0.94      0.95      0.95       100\n",
      "           3       0.98      0.96      0.97       100\n",
      "           4       0.97      0.96      0.96       100\n",
      "           5       0.95      0.98      0.97       100\n",
      "           6       0.94      1.00      0.97       100\n",
      "           7       1.00      0.94      0.97       100\n",
      "           8       0.93      0.79      0.85       100\n",
      "           9       0.94      0.97      0.96       100\n",
      "\n",
      "    accuracy                           0.94      1000\n",
      "   macro avg       0.95      0.95      0.94      1000\n",
      "weighted avg       0.95      0.94      0.94      1000\n",
      "\n"
     ]
    }
   ],
   "source": [
    "modelo = KNeighborsClassifier(n_neighbors=3, metric='euclidean')\n",
    "modelo.fit(centroides_para_treino, centroides_labels)\n",
    "print(modelo.score(x_test, y_test))\n",
    "print(classification_report(y_test, modelo.predict(x_test)))\n",
    "print(\"-------------------------------------------\")\n",
    "srv = svm.SVC(probability=True, kernel='linear')\n",
    "#srv.fit(x_train, y_train)\n",
    "srv.fit(centroides_para_treino, centroides_labels)\n",
    "print(srv.score(x_test, y_test))\n",
    "print(classification_report(y_test, srv.predict(x_test)))"
   ]
  }
 ],
 "metadata": {
  "kernelspec": {
   "display_name": "Python 3",
   "language": "python",
   "name": "python3"
  },
  "language_info": {
   "codemirror_mode": {
    "name": "ipython",
    "version": 3
   },
   "file_extension": ".py",
   "mimetype": "text/x-python",
   "name": "python",
   "nbconvert_exporter": "python",
   "pygments_lexer": "ipython3",
   "version": "3.10.6"
  },
  "orig_nbformat": 4,
  "vscode": {
   "interpreter": {
    "hash": "e7370f93d1d0cde622a1f8e1c04877d8463912d04d973331ad4851f04de6915a"
   }
  }
 },
 "nbformat": 4,
 "nbformat_minor": 2
}
